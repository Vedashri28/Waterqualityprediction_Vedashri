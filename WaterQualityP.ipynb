{
 "cells": [
  {
   "cell_type": "code",
   "execution_count": 1,
   "id": "f12d1bc3-869f-450c-863b-c8e10878767a",
   "metadata": {},
   "outputs": [],
   "source": [
    "# Import necessary libraries\n",
    "import pandas as pd  # data manipulation\n",
    "import numpy as np   # numerical operations\n",
    "from sklearn.multioutput import MultiOutputRegressor\n",
    "from sklearn.ensemble import RandomForestRegressor\n",
    "from sklearn.model_selection import train_test_split\n",
    "from sklearn.metrics import mean_squared_error, r2_score"
   ]
  },
  {
   "cell_type": "code",
   "execution_count": 2,
   "id": "948b261e-86fe-495e-9c77-986ae34b38d7",
   "metadata": {},
   "outputs": [],
   "source": [
    "# Load the dataset\n",
    "df = pd.read_csv('PB_All_2000_2021.csv', sep=';')"
   ]
  },
  {
   "cell_type": "code",
   "execution_count": 3,
   "id": "b174d486-9984-4259-942c-362bc25218ba",
   "metadata": {},
   "outputs": [
    {
     "name": "stdout",
     "output_type": "stream",
     "text": [
      "<class 'pandas.core.frame.DataFrame'>\n",
      "RangeIndex: 2861 entries, 0 to 2860\n",
      "Data columns (total 11 columns):\n",
      " #   Column     Non-Null Count  Dtype  \n",
      "---  ------     --------------  -----  \n",
      " 0   id         2861 non-null   int64  \n",
      " 1   date       2861 non-null   object \n",
      " 2   NH4        2858 non-null   float64\n",
      " 3   BSK5       2860 non-null   float64\n",
      " 4   Suspended  2845 non-null   float64\n",
      " 5   O2         2858 non-null   float64\n",
      " 6   NO3        2860 non-null   float64\n",
      " 7   NO2        2858 non-null   float64\n",
      " 8   SO4        2812 non-null   float64\n",
      " 9   PO4        2833 non-null   float64\n",
      " 10  CL         2812 non-null   float64\n",
      "dtypes: float64(9), int64(1), object(1)\n",
      "memory usage: 246.0+ KB\n",
      "None\n",
      "(2861, 11)\n",
      "            count       mean         std   min      25%     50%       75%  \\\n",
      "id         2861.0  12.397064    6.084226  1.00   8.0000  14.000  16.00000   \n",
      "NH4        2858.0   0.758734    2.486247  0.00   0.0800   0.220   0.50000   \n",
      "BSK5       2860.0   4.316182    2.973997  0.00   2.1600   3.800   5.80000   \n",
      "Suspended  2845.0  12.931905   16.543097  0.00   6.0000  10.000  15.00000   \n",
      "O2         2858.0   9.508902    4.428260  0.00   7.0925   8.995  11.52000   \n",
      "NO3        2860.0   4.316846    6.881188  0.00   1.3900   2.800   5.58250   \n",
      "NO2        2858.0   0.246128    2.182777  0.00   0.0300   0.059   0.12575   \n",
      "SO4        2812.0  59.362313   96.582641  0.00  27.0525  37.800  64.64000   \n",
      "PO4        2833.0   0.418626    0.771326  0.00   0.1300   0.270   0.47000   \n",
      "CL         2812.0  93.731991  394.512184  0.02  26.8000  33.900  45.60750   \n",
      "\n",
      "                max  \n",
      "id           22.000  \n",
      "NH4          39.427  \n",
      "BSK5         50.900  \n",
      "Suspended   595.000  \n",
      "O2           90.000  \n",
      "NO3         133.400  \n",
      "NO2         109.000  \n",
      "SO4        3573.400  \n",
      "PO4          13.879  \n",
      "CL         5615.280  \n",
      "id            0\n",
      "date          0\n",
      "NH4           3\n",
      "BSK5          1\n",
      "Suspended    16\n",
      "O2            3\n",
      "NO3           1\n",
      "NO2           3\n",
      "SO4          49\n",
      "PO4          28\n",
      "CL           49\n",
      "dtype: int64\n"
     ]
    }
   ],
   "source": [
    "# Basic data checks\n",
    "print(df.info())            # Info about dataset\n",
    "print(df.shape)             # Shape of dataset\n",
    "print(df.describe().T)      # Transpose summary statistics\n",
    "print(df.isnull().sum())    # Count missing values"
   ]
  },
  {
   "cell_type": "code",
   "execution_count": 4,
   "id": "4bebbb77-8950-4bf9-9ea1-2f893cb1e320",
   "metadata": {},
   "outputs": [],
   "source": [
    "# Convert 'date' column to datetime\n",
    "df['date'] = pd.to_datetime(df['date'], format='%d.%m.%Y')"
   ]
  },
  {
   "cell_type": "code",
   "execution_count": 5,
   "id": "032dfccf-408c-43f7-9960-cfd6fe096d86",
   "metadata": {},
   "outputs": [],
   "source": [
    "# Sort by id and date\n",
    "df = df.sort_values(by=['id', 'date'])"
   ]
  },
  {
   "cell_type": "code",
   "execution_count": 6,
   "id": "2cda8fd6-e1ea-4f40-92a6-fe0e85bf9ad7",
   "metadata": {},
   "outputs": [],
   "source": [
    "# Extract year and month\n",
    "df['year'] = df['date'].dt.year\n",
    "df['month'] = df['date'].dt.month"
   ]
  },
  {
   "cell_type": "code",
   "execution_count": 7,
   "id": "674e6ea3-cf82-4444-bafe-36ec6d205c55",
   "metadata": {},
   "outputs": [
    {
     "name": "stdout",
     "output_type": "stream",
     "text": [
      "Index(['id', 'date', 'NH4', 'BSK5', 'Suspended', 'O2', 'NO3', 'NO2', 'SO4',\n",
      "       'PO4', 'CL', 'year', 'month'],\n",
      "      dtype='object')\n"
     ]
    }
   ],
   "source": [
    "# Check column names (for your reference)\n",
    "print(df.columns)"
   ]
  },
  {
   "cell_type": "code",
   "execution_count": 8,
   "id": "e58ccff9-1ebd-42ed-bd4f-100b16a01cf4",
   "metadata": {},
   "outputs": [],
   "source": [
    "# Define the pollutant columns\n",
    "pollutants = ['O2', 'NO3', 'NO2', 'SO4', 'PO4', 'CL']"
   ]
  },
  {
   "cell_type": "code",
   "execution_count": 9,
   "id": "03d80190-8e02-476c-90da-e07ded339af1",
   "metadata": {},
   "outputs": [
    {
     "name": "stdout",
     "output_type": "stream",
     "text": [
      "   id       date    NH4  BSK5  Suspended     O2    NO3    NO2    SO4    PO4  \\\n",
      "0   1 2000-02-17  0.330  2.77       12.0  12.30   9.50  0.057  154.0  0.454   \n",
      "1   1 2000-05-11  0.044  3.00       51.6  14.61  17.75  0.034  352.0  0.090   \n",
      "2   1 2000-09-11  0.032  2.10       24.5   9.87  13.80  0.173  416.0  0.200   \n",
      "3   1 2000-12-13  0.170  2.23       35.6  12.40  17.13  0.099  275.2  0.377   \n",
      "4   1 2001-03-02  0.000  3.03       48.8  14.69  10.00  0.065  281.6  0.134   \n",
      "\n",
      "       CL  year  month  \n",
      "0   289.5  2000      2  \n",
      "1  1792.0  2000      5  \n",
      "2  2509.0  2000      9  \n",
      "3  1264.0  2000     12  \n",
      "4  1462.0  2001      3  \n"
     ]
    }
   ],
   "source": [
    "df = df.dropna(subset=pollutants)\n",
    "print(df.head())"
   ]
  },
  {
   "cell_type": "code",
   "execution_count": 10,
   "id": "6728d3be-85e6-4a7f-826b-843f0188bb09",
   "metadata": {},
   "outputs": [
    {
     "data": {
      "text/plain": [
       "id           0\n",
       "date         0\n",
       "NH4          2\n",
       "BSK5         0\n",
       "Suspended    2\n",
       "O2           0\n",
       "NO3          0\n",
       "NO2          0\n",
       "SO4          0\n",
       "PO4          0\n",
       "CL           0\n",
       "year         0\n",
       "month        0\n",
       "dtype: int64"
      ]
     },
     "execution_count": 10,
     "metadata": {},
     "output_type": "execute_result"
    }
   ],
   "source": [
    "df.isnull().sum()"
   ]
  },
  {
   "cell_type": "code",
   "execution_count": 11,
   "id": "1085eb09-2f3d-444d-ab17-fb3f6e10433b",
   "metadata": {},
   "outputs": [],
   "source": [
    "# Feature and target selection - Feature - independent variable and Target dependent variable\n",
    "X = df[['id', 'year']]\n",
    "y = df[pollutants]"
   ]
  },
  {
   "cell_type": "code",
   "execution_count": 12,
   "id": "7c1a9b99-5c17-4447-99d0-75fce780ad58",
   "metadata": {},
   "outputs": [],
   "source": [
    "# Encoding - onehotencoder - 22 stations - 1 - 1\n",
    "X_encoded = pd.get_dummies(X, columns=['id'], drop_first=True)"
   ]
  },
  {
   "cell_type": "code",
   "execution_count": 13,
   "id": "cfa41f9c-d876-4663-882d-a9fa5290e182",
   "metadata": {},
   "outputs": [],
   "source": [
    "# Train, Test and Split\n",
    "X_train, X_test, y_train, y_test = train_test_split(\n",
    "    X_encoded, y, test_size=0.2, random_state=42\n",
    ")"
   ]
  },
  {
   "cell_type": "code",
   "execution_count": 14,
   "id": "46d46b77-419f-424d-9af5-8f11a6600c6e",
   "metadata": {},
   "outputs": [
    {
     "data": {
      "text/html": [
       "<style>#sk-container-id-1 {color: black;}#sk-container-id-1 pre{padding: 0;}#sk-container-id-1 div.sk-toggleable {background-color: white;}#sk-container-id-1 label.sk-toggleable__label {cursor: pointer;display: block;width: 100%;margin-bottom: 0;padding: 0.3em;box-sizing: border-box;text-align: center;}#sk-container-id-1 label.sk-toggleable__label-arrow:before {content: \"▸\";float: left;margin-right: 0.25em;color: #696969;}#sk-container-id-1 label.sk-toggleable__label-arrow:hover:before {color: black;}#sk-container-id-1 div.sk-estimator:hover label.sk-toggleable__label-arrow:before {color: black;}#sk-container-id-1 div.sk-toggleable__content {max-height: 0;max-width: 0;overflow: hidden;text-align: left;background-color: #f0f8ff;}#sk-container-id-1 div.sk-toggleable__content pre {margin: 0.2em;color: black;border-radius: 0.25em;background-color: #f0f8ff;}#sk-container-id-1 input.sk-toggleable__control:checked~div.sk-toggleable__content {max-height: 200px;max-width: 100%;overflow: auto;}#sk-container-id-1 input.sk-toggleable__control:checked~label.sk-toggleable__label-arrow:before {content: \"▾\";}#sk-container-id-1 div.sk-estimator input.sk-toggleable__control:checked~label.sk-toggleable__label {background-color: #d4ebff;}#sk-container-id-1 div.sk-label input.sk-toggleable__control:checked~label.sk-toggleable__label {background-color: #d4ebff;}#sk-container-id-1 input.sk-hidden--visually {border: 0;clip: rect(1px 1px 1px 1px);clip: rect(1px, 1px, 1px, 1px);height: 1px;margin: -1px;overflow: hidden;padding: 0;position: absolute;width: 1px;}#sk-container-id-1 div.sk-estimator {font-family: monospace;background-color: #f0f8ff;border: 1px dotted black;border-radius: 0.25em;box-sizing: border-box;margin-bottom: 0.5em;}#sk-container-id-1 div.sk-estimator:hover {background-color: #d4ebff;}#sk-container-id-1 div.sk-parallel-item::after {content: \"\";width: 100%;border-bottom: 1px solid gray;flex-grow: 1;}#sk-container-id-1 div.sk-label:hover label.sk-toggleable__label {background-color: #d4ebff;}#sk-container-id-1 div.sk-serial::before {content: \"\";position: absolute;border-left: 1px solid gray;box-sizing: border-box;top: 0;bottom: 0;left: 50%;z-index: 0;}#sk-container-id-1 div.sk-serial {display: flex;flex-direction: column;align-items: center;background-color: white;padding-right: 0.2em;padding-left: 0.2em;position: relative;}#sk-container-id-1 div.sk-item {position: relative;z-index: 1;}#sk-container-id-1 div.sk-parallel {display: flex;align-items: stretch;justify-content: center;background-color: white;position: relative;}#sk-container-id-1 div.sk-item::before, #sk-container-id-1 div.sk-parallel-item::before {content: \"\";position: absolute;border-left: 1px solid gray;box-sizing: border-box;top: 0;bottom: 0;left: 50%;z-index: -1;}#sk-container-id-1 div.sk-parallel-item {display: flex;flex-direction: column;z-index: 1;position: relative;background-color: white;}#sk-container-id-1 div.sk-parallel-item:first-child::after {align-self: flex-end;width: 50%;}#sk-container-id-1 div.sk-parallel-item:last-child::after {align-self: flex-start;width: 50%;}#sk-container-id-1 div.sk-parallel-item:only-child::after {width: 0;}#sk-container-id-1 div.sk-dashed-wrapped {border: 1px dashed gray;margin: 0 0.4em 0.5em 0.4em;box-sizing: border-box;padding-bottom: 0.4em;background-color: white;}#sk-container-id-1 div.sk-label label {font-family: monospace;font-weight: bold;display: inline-block;line-height: 1.2em;}#sk-container-id-1 div.sk-label-container {text-align: center;}#sk-container-id-1 div.sk-container {/* jupyter's `normalize.less` sets `[hidden] { display: none; }` but bootstrap.min.css set `[hidden] { display: none !important; }` so we also need the `!important` here to be able to override the default hidden behavior on the sphinx rendered scikit-learn.org. See: https://github.com/scikit-learn/scikit-learn/issues/21755 */display: inline-block !important;position: relative;}#sk-container-id-1 div.sk-text-repr-fallback {display: none;}</style><div id=\"sk-container-id-1\" class=\"sk-top-container\"><div class=\"sk-text-repr-fallback\"><pre>MultiOutputRegressor(estimator=RandomForestRegressor(random_state=42))</pre><b>In a Jupyter environment, please rerun this cell to show the HTML representation or trust the notebook. <br />On GitHub, the HTML representation is unable to render, please try loading this page with nbviewer.org.</b></div><div class=\"sk-container\" hidden><div class=\"sk-item sk-dashed-wrapped\"><div class=\"sk-label-container\"><div class=\"sk-label sk-toggleable\"><input class=\"sk-toggleable__control sk-hidden--visually\" id=\"sk-estimator-id-1\" type=\"checkbox\" ><label for=\"sk-estimator-id-1\" class=\"sk-toggleable__label sk-toggleable__label-arrow\">MultiOutputRegressor</label><div class=\"sk-toggleable__content\"><pre>MultiOutputRegressor(estimator=RandomForestRegressor(random_state=42))</pre></div></div></div><div class=\"sk-parallel\"><div class=\"sk-parallel-item\"><div class=\"sk-item\"><div class=\"sk-label-container\"><div class=\"sk-label sk-toggleable\"><input class=\"sk-toggleable__control sk-hidden--visually\" id=\"sk-estimator-id-2\" type=\"checkbox\" ><label for=\"sk-estimator-id-2\" class=\"sk-toggleable__label sk-toggleable__label-arrow\">estimator: RandomForestRegressor</label><div class=\"sk-toggleable__content\"><pre>RandomForestRegressor(random_state=42)</pre></div></div></div><div class=\"sk-serial\"><div class=\"sk-item\"><div class=\"sk-estimator sk-toggleable\"><input class=\"sk-toggleable__control sk-hidden--visually\" id=\"sk-estimator-id-3\" type=\"checkbox\" ><label for=\"sk-estimator-id-3\" class=\"sk-toggleable__label sk-toggleable__label-arrow\">RandomForestRegressor</label><div class=\"sk-toggleable__content\"><pre>RandomForestRegressor(random_state=42)</pre></div></div></div></div></div></div></div></div></div></div>"
      ],
      "text/plain": [
       "MultiOutputRegressor(estimator=RandomForestRegressor(random_state=42))"
      ]
     },
     "execution_count": 14,
     "metadata": {},
     "output_type": "execute_result"
    }
   ],
   "source": [
    "# Train the model\n",
    "model = MultiOutputRegressor(RandomForestRegressor(n_estimators=100, random_state=42))\n",
    "model.fit(X_train, y_train)"
   ]
  },
  {
   "cell_type": "code",
   "execution_count": 15,
   "id": "1299b584-9e1f-4b95-a029-bec133f95d8d",
   "metadata": {},
   "outputs": [],
   "source": [
    "# Evaluate model\n",
    "y_pred = model.predict(X_test)"
   ]
  },
  {
   "cell_type": "code",
   "execution_count": 16,
   "id": "b5be5f08-a6b2-43f5-960b-061d00695a14",
   "metadata": {},
   "outputs": [
    {
     "name": "stdout",
     "output_type": "stream",
     "text": [
      "Model Performance on the Test Data:\n",
      "O2:\n",
      "   MSE: 22.21825046040189\n",
      "   R2: -0.01674257045728833\n",
      "\n",
      "NO3:\n",
      "   MSE: 18.153106746365886\n",
      "   R2: 0.5162032171220556\n",
      "\n",
      "NO2:\n",
      "   MSE: 10.607352172601502\n",
      "   R2: -78.42066512350873\n",
      "\n",
      "SO4:\n",
      "   MSE: 2412.139350033052\n",
      "   R2: 0.4118345603876148\n",
      "\n",
      "PO4:\n",
      "   MSE: 0.38496938017964155\n",
      "   R2: 0.3221189891402043\n",
      "\n",
      "CL:\n",
      "   MSE: 34882.81433245622\n",
      "   R2: 0.7357918194149974\n",
      "\n"
     ]
    }
   ],
   "source": [
    "print(\"Model Performance on the Test Data:\")\n",
    "for i, pollutant in enumerate(pollutants):\n",
    "    print(f'{pollutant}:')\n",
    "    print('   MSE:', mean_squared_error(y_test.iloc[:, i], y_pred[:, i]))\n",
    "    print('   R2:', r2_score(y_test.iloc[:, i], y_pred[:, i]))\n",
    "    print()"
   ]
  },
  {
   "cell_type": "code",
   "execution_count": 17,
   "id": "b8ef950f-0680-42f7-8408-a5269ce888c6",
   "metadata": {},
   "outputs": [
    {
     "name": "stdout",
     "output_type": "stream",
     "text": [
      "\n",
      "Predicted pollutant levels for station '22' in 2024:\n",
      "  O2: 12.60\n",
      "  NO3: 6.90\n",
      "  NO2: 0.13\n",
      "  SO4: 143.08\n",
      "  PO4: 0.50\n",
      "  CL: 67.33\n"
     ]
    }
   ],
   "source": [
    "station_id = '22'\n",
    "year_input = 2024\n",
    "\n",
    "input_data = pd.DataFrame({'year': [year_input], 'id': [station_id]})\n",
    "input_encoded = pd.get_dummies(input_data, columns=['id'])\n",
    "\n",
    "# Align with training feature columns\n",
    "missing_cols = set(X_encoded.columns) - set(input_encoded.columns)\n",
    "for col in missing_cols:\n",
    "    input_encoded[col] = 0\n",
    "input_encoded = input_encoded[X_encoded.columns]  # reorder columns\n",
    "\n",
    "# Predict pollutants\n",
    "predicted_pollutants = model.predict(input_encoded)[0]\n",
    "\n",
    "print(f\"\\nPredicted pollutant levels for station '{station_id}' in {year_input}:\")\n",
    "for p, val in zip(pollutants, predicted_pollutants):\n",
    "    print(f\"  {p}: {val:.2f}\")"
   ]
  },
  {
   "cell_type": "code",
   "execution_count": 18,
   "id": "6f6368b2-4cd0-45c4-9adf-88d2f53f627b",
   "metadata": {},
   "outputs": [
    {
     "name": "stdout",
     "output_type": "stream",
     "text": [
      "Model and cols structure are saved!\n"
     ]
    }
   ],
   "source": [
    "import joblib\n",
    "\n",
    "joblib.dump(model, 'pollution_model.pkl')\n",
    "joblib.dump(X_encoded.columns.tolist(), \"model_columns.pkl\")\n",
    "print('Model and cols structure are saved!')"
   ]
  },
  {
   "cell_type": "code",
   "execution_count": null,
   "id": "96e1153a-bdf6-49fd-86ed-d3c968a0526c",
   "metadata": {},
   "outputs": [],
   "source": []
  }
 ],
 "metadata": {
  "kernelspec": {
   "display_name": "anaconda-2024.02-py310",
   "language": "python",
   "name": "conda-env-anaconda-2024.02-py310-py"
  },
  "language_info": {
   "codemirror_mode": {
    "name": "ipython",
    "version": 3
   },
   "file_extension": ".py",
   "mimetype": "text/x-python",
   "name": "python",
   "nbconvert_exporter": "python",
   "pygments_lexer": "ipython3",
   "version": "3.10.14"
  }
 },
 "nbformat": 4,
 "nbformat_minor": 5
}
